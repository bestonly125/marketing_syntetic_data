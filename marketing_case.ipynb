{
 "cells": [
  {
   "cell_type": "code",
   "execution_count": 1,
   "id": "7712fa60-7cfc-454b-9ae4-8991b839f171",
   "metadata": {
    "pycharm": {
     "name": "#%%\n"
    }
   },
   "outputs": [],
   "source": [
    "from openpyxl import load_workbook\n",
    "import numpy as np"
   ]
  },
  {
   "cell_type": "code",
   "execution_count": 2,
   "id": "92dc4f0f-449c-4a40-9c23-ea54481b4eb0",
   "metadata": {
    "pycharm": {
     "name": "#%%\n"
    }
   },
   "outputs": [],
   "source": [
    "wb = load_workbook(\"marketing_case.xlsx\")\n",
    "product_wb = load_workbook(\"Компьютерная техника.xlsx\")\n",
    "product_ws = product_wb[\"товар\"]"
   ]
  },
  {
   "cell_type": "code",
   "execution_count": 3,
   "id": "556735be-82aa-4f8e-b1ae-8fdde5538c86",
   "metadata": {
    "pycharm": {
     "name": "#%%\n"
    }
   },
   "outputs": [],
   "source": [
    "n = 500\n",
    "\n",
    "ws1 = wb[\"A1\"] #начальный отчет о покупках\n",
    "ws2 = wb[\"A2\"] #обогащенный набор – с добавленными пользовательскими ID\n",
    "ws3 = wb[\"A3\"] #обезличенный с микро-сегментами\n",
    "ws4 = wb[\"B1\"] #Отчет о просмотрах рекламы с пользователями\n",
    "ws5 = wb[\"B2\"] #Обезличенный отчет о просмотрах\n",
    "ws6 = wb[\"C1\"] #Сводный отчет, совмещающий данные A3 и B2\n",
    "ws7 = wb[\"C2\"] #Еще раз обезличенный отчет с убранными какими-то идентификаторами"
   ]
  },
  {
   "cell_type": "markdown",
   "id": "fb85f48d",
   "metadata": {
    "pycharm": {
     "name": "#%% md\n"
    }
   },
   "source": [
    "# Начальный отчет о покупках (A1)"
   ]
  },
  {
   "cell_type": "code",
   "execution_count": 4,
   "id": "c4a7ca29-9325-449e-990d-afcfff3c381f",
   "metadata": {
    "pycharm": {
     "name": "#%%\n"
    }
   },
   "outputs": [],
   "source": [
    "def title_a1(row:int):\n",
    "    # частотность продуктов\n",
    "    frequency_arg = np.random.randint(1,100)\n",
    "    if frequency_arg <= 45:\n",
    "        row_product = str(np.random.randint(9967, 13108))\n",
    "        lat = str(round(np.random.uniform(44.400001,44.440001),6))\n",
    "        long = str(round(np.random.uniform(55.600001,55.660001),6))\n",
    "        user = str(np.random.randint(91611021, 91611999)) + \"xx\"\n",
    "\n",
    "    elif frequency_arg > 45 and frequency_arg <= 70:\n",
    "        row_product = str(np.random.randint(2, 9966))\n",
    "        lat = str(round(np.random.uniform(44.420001,44.440001),6))\n",
    "        long = str(round(np.random.uniform(55.620001,55.660001),6))\n",
    "        user = str(np.random.randint(91611021, 91611601)) + \"xx\"\n",
    "        \n",
    "    elif frequency_arg == 71:\n",
    "        row_product = str(np.random.randint(21557,21587))\n",
    "        lat = str(round(np.random.uniform(44.420000,44.429999),6))\n",
    "        long = str(round(np.random.uniform(55.620000,55.629999),6))\n",
    "        user = str(np.random.randint(91611000, 91611020)) + \"xx\"\n",
    "    else:\n",
    "        row_product = str(np.random.randint(13109, 21556))\n",
    "        lat = str(round(np.random.uniform(44.420000,44.440001),6))\n",
    "        long = str(round(np.random.uniform(55.620000,55.660001),6))\n",
    "        user = str(np.random.randint(91611021, 91611999)) + \"xx\"\n",
    "\n",
    "    quantity_product = np.random.randint(1,6)\n",
    "    #Локальное время покупок\n",
    "    ws1['A'+ str(row)] = str(np.datetime64('2020-01-01T00:00') + np.random.randint(1,100000)) + \"+00:03\"\n",
    "    #Широта\n",
    "    ws1['B' + str(row)] = lat\n",
    "    #Долгота\n",
    "    ws1['C' + str(row)] = long\n",
    "    #Общая сумма покупок\n",
    "    ws1['D' + str(row)] = int(product_ws['D' + row_product].value) * quantity_product\n",
    "    # print(type(int(product_ws[\"D\" + row_product].value)))\n",
    "    #Код региона\n",
    "    ws1['E' + str(row)] = 38\n",
    "    #Часовой пояс\n",
    "    ws1['F' + str(row)] = \"UTC+5\"\n",
    "    #Кол-во  товаров в покупоке\n",
    "    ws1['G' + str(row)] = quantity_product\n",
    "    #Бренды\n",
    "    ws1['H' + str(row)] = product_ws[\"A\" + row_product].value\n",
    "    #Категория\n",
    "    ws1['I' + str(row)] = product_ws[\"B\" + row_product].value\n",
    "    \n",
    "    # Микросегмент из таблици А2 которая привяна свойсвам таблицы А1\n",
    "    # осталные столбцы А2 таблицы генерируется в ф-и title_a2\n",
    "    ws2['A'+ str(row)] = user"
   ]
  },
  {
   "cell_type": "markdown",
   "id": "fdcc9723",
   "metadata": {
    "pycharm": {
     "name": "#%% md\n"
    }
   },
   "source": [
    "# Обогащенный набор – с добавленными пользовательскими ID (A2)"
   ]
  },
  {
   "cell_type": "code",
   "execution_count": 5,
   "id": "2dba1faa",
   "metadata": {
    "collapsed": false,
    "jupyter": {
     "outputs_hidden": false
    },
    "pycharm": {
     "name": "#%%\n"
    }
   },
   "outputs": [],
   "source": [
    "def title_a2(row:int):\n",
    "\n",
    "    #Локальное время покупок\n",
    "    ws2['B' + str(row)] = ws1[\"A\" + str(row)].value\n",
    "    #Широта\n",
    "    ws2['C' + str(row)] = ws1[\"B\" + str(row)].value\n",
    "    #Долгота\n",
    "    ws2['D' + str(row)] = ws1[\"C\" + str(row)].value\n",
    "    #Общая сумма покупок\n",
    "    ws2['E' + str(row)] = ws1[\"D\" + str(row)].value\n",
    "    #Код региона\n",
    "    ws2['F' + str(row)] = ws1[\"E\" + str(row)].value\n",
    "    #Часовой пояс\n",
    "    ws2['G' + str(row)] = ws1[\"F\" + str(row)].value\n",
    "    #Кол-во покупок\n",
    "    ws2['H' + str(row)] = ws1[\"G\" + str(row)].value\n",
    "    #Кол-во  товаров в покупоке\n",
    "    ws2['I' + str(row)] = ws1[\"G\" + str(row)].value\n",
    "    #Бренды\n",
    "    ws2['J' + str(row)] = ws1[\"H\"+str(row)].value\n",
    "    #Категория\n",
    "    ws2['K' + str(row)] = ws1[\"I\"+str(row)].value"
   ]
  },
  {
   "cell_type": "markdown",
   "id": "ec63cba6",
   "metadata": {
    "pycharm": {
     "name": "#%% md\n"
    }
   },
   "source": [
    "# Обезличенный нвбор (A3)"
   ]
  },
  {
   "cell_type": "code",
   "execution_count": 6,
   "id": "a98423c0-26b0-4e04-8154-938ea693d062",
   "metadata": {
    "pycharm": {
     "name": "#%%\n"
    }
   },
   "outputs": [],
   "source": [
    "def title_a3(row:int):\n",
    "    #ID Микросегмент\n",
    "    ws3['A'+ str(row)] = row - 1\n",
    "    #Локальное время покупок\n",
    "    ws3['B' + str(row)] = ws2[\"B\" + str(row)].value\n",
    "    #Код региона\n",
    "    ws3['C' + str(row)] = ws2[\"F\" + str(row)].value\n",
    "    #Часовой пояс\n",
    "    ws3['D' + str(row)] = ws2[\"G\" + str(row)].value\n",
    "    #Кол-во покупок\n",
    "    ws3['E' + str(row)] = ws2[\"H\" + str(row)].value\n",
    "    #Кол-во  товаров в покупоке\n",
    "    ws3['F' + str(row)] = ws2[\"I\" + str(row)].value\n",
    "    #Бренды\n",
    "    ws3['G' + str(row)] = ws2[\"J\" + str(row)].value\n",
    "    #Категория\n",
    "    ws3['H' + str(row)] = ws2[\"K\" + str(row)].value"
   ]
  },
  {
   "cell_type": "markdown",
   "id": "e272ccc6",
   "metadata": {
    "pycharm": {
     "name": "#%% md\n"
    }
   },
   "source": [
    "# Отчет о просмотрах рекламы (B1)"
   ]
  },
  {
   "cell_type": "code",
   "execution_count": 7,
   "id": "ec53ec68-75cb-4b09-989c-eb5385446bc3",
   "metadata": {
    "pycharm": {
     "name": "#%%\n"
    }
   },
   "outputs": [],
   "source": [
    "def title_b1(row:int):\n",
    "    #Микросегмент\n",
    "    ws4['A'+ str(row)] = ws2[\"A\" + str(row)].value\n",
    "    #Дата просмотра рекламы\n",
    "    ws4['B' + str(row)] = str(np.datetime64('2020-01-01') + np.random.randint(1,365))\n",
    "    #Кол-во просмотров рекламы\n",
    "    ws4['C' + str(row)] = np.random.randint(1, 30)\n",
    "    #Кол-во уникальных пользователей\n",
    "    ws4['D' + str(row)] = np.random.randint(1, 30)"
   ]
  },
  {
   "cell_type": "markdown",
   "id": "2f9ab663",
   "metadata": {
    "pycharm": {
     "name": "#%% md\n"
    }
   },
   "source": [
    "# Обезличенный отчет (B2)"
   ]
  },
  {
   "cell_type": "code",
   "execution_count": 8,
   "id": "b136ed3c-f7b3-48d8-b9cf-f3ee7a3ea11f",
   "metadata": {
    "pycharm": {
     "name": "#%%\n"
    }
   },
   "outputs": [],
   "source": [
    "def title_b2(row:int):\n",
    "    #ID Микросегмент\n",
    "    ws5['A'+ str(row)] = row - 1\n",
    "    #Дата просмотра рекламы\n",
    "    ws5['B' + str(row)] = ws4['B' + str(row)].value\n",
    "    #Кол-во просмотров рекламы\n",
    "    ws5['C' + str(row)] = np.random.randint(1, 30)\n",
    "    #Кол-во уникальных пользователей\n",
    "    ws5['D' + str(row)] = ws4['C' + str(row)].value"
   ]
  },
  {
   "cell_type": "markdown",
   "id": "504bc372",
   "metadata": {
    "pycharm": {
     "name": "#%% md\n"
    }
   },
   "source": [
    "# Сводный отчет (C1)"
   ]
  },
  {
   "cell_type": "code",
   "execution_count": 9,
   "id": "204e7a54-43e5-4c75-ba17-7b4e2493a71b",
   "metadata": {
    "pycharm": {
     "name": "#%%\n"
    }
   },
   "outputs": [],
   "source": [
    "def title_c1(row:int):\n",
    "    #ID Микросегмент\n",
    "    ws6['A'+ str(row)] = ws5['A' + str(row)].value\n",
    "    #Дата просмотра рекламы\n",
    "    ws6['B' + str(row)] = ws5['B' + str(row)].value\n",
    "    #Кол-во пользователей, просмотревших рекламу\n",
    "    ws6['C' + str(row)] = ws5['C' + str(row)].value\n",
    "    #Кол-во просмотров рекламы\n",
    "    ws6['D' + str(row)] = ws5['D' + str(row)].value\n",
    "    #Локальное время покупки\n",
    "    ws6['E' + str(row)] = ws3['B' + str(row)].value\n",
    "    #Код региона\n",
    "    ws6['F' + str(row)] = ws3['C' + str(row)].value\n",
    "    #Часовой пояс\n",
    "    ws6['G' + str(row)] = ws3['D' + str(row)].value\n",
    "    #Кол-во покупок\n",
    "    ws6['H' + str(row)] = ws3['E' + str(row)].value\n",
    "    #Кол-во товаров в покупке\n",
    "    ws6['I' + str(row)] = ws3['F' + str(row)].value\n",
    "    #Бренд\n",
    "    ws6['J' + str(row)] = ws3['G' + str(row)].value\n",
    "    #Категории\n",
    "    ws6['K' + str(row)] = ws3['H' + str(row)].value\n"
   ]
  },
  {
   "cell_type": "markdown",
   "id": "6428c952",
   "metadata": {
    "pycharm": {
     "name": "#%% md\n"
    }
   },
   "source": [
    "# Oбезличенный отчет без идентификаторов (С2)"
   ]
  },
  {
   "cell_type": "code",
   "execution_count": 10,
   "id": "bc9935d4-375f-4dfd-8834-3f848a854a49",
   "metadata": {
    "pycharm": {
     "name": "#%%\n"
    }
   },
   "outputs": [],
   "source": [
    "def title_c2(row:int):\n",
    "\n",
    "    #Дата просмотра рекламы\n",
    "    ws7['A' + str(row)] = ws6['B' + str(row)].value\n",
    "    #Кол-во пользователей, просмотревших рекламу\n",
    "    ws7['B' + str(row)] = ws6['C' + str(row)].value\n",
    "    #Кол-во просмотров рекламы\n",
    "    ws7['C' + str(row)] = ws6['D' + str(row)].value\n",
    "    #Локальное время покупки\n",
    "    ws7['D' + str(row)] = ws6['E' + str(row)].value\n",
    "    #Код региона\n",
    "    ws7['E' + str(row)] = ws6['F' + str(row)].value\n",
    "    #Часовой пояс\n",
    "    ws7['F' + str(row)] = ws6['G' + str(row)].value\n",
    "    #Кол-во покупок\n",
    "    ws7['G' + str(row)] = ws6['H' + str(row)].value\n",
    "    #Кол-во товаров в покупке\n",
    "    ws7['H' + str(row)] = ws6['I' + str(row)].value\n",
    "    #Бренд\n",
    "    ws7['I' + str(row)] = ws6['J' + str(row)].value\n",
    "    #Категории\n",
    "    ws7['J' + str(row)] = ws6['K' + str(row)].value"
   ]
  },
  {
   "cell_type": "code",
   "execution_count": 11,
   "id": "0285e7a4",
   "metadata": {
    "collapsed": false,
    "jupyter": {
     "outputs_hidden": false
    },
    "pycharm": {
     "name": "#%%\n"
    }
   },
   "outputs": [
    {
     "name": "stdout",
     "output_type": "stream",
     "text": [
      "Save result in marketing_case_v.0.4.xlsx\n"
     ]
    }
   ],
   "source": [
    "for i in range(2, n+2):\n",
    "    title_a1(i)\n",
    "    title_a2(i)\n",
    "    title_a3(i)\n",
    "    title_b1(i)\n",
    "    title_b2(i)\n",
    "    title_c1(i)\n",
    "    title_c2(i)\n",
    "    if i % 100000 == 0:\n",
    "        print(i)\n",
    "wb.save(filename=\"marketing_case_v.0.4.xlsx\")\n",
    "print(\"Save result in marketing_case_v.0.4.xlsx\")"
   ]
  },
  {
   "cell_type": "code",
   "execution_count": null,
   "id": "ada3b062",
   "metadata": {
    "collapsed": false,
    "jupyter": {
     "outputs_hidden": false
    },
    "pycharm": {
     "name": "#%%\n"
    }
   },
   "outputs": [],
   "source": []
  }
 ],
 "metadata": {
  "kernelspec": {
   "display_name": "Python 3 (ipykernel)",
   "language": "python",
   "name": "python3"
  },
  "language_info": {
   "codemirror_mode": {
    "name": "ipython",
    "version": 3
   },
   "file_extension": ".py",
   "mimetype": "text/x-python",
   "name": "python",
   "nbconvert_exporter": "python",
   "pygments_lexer": "ipython3",
   "version": "3.8.10"
  }
 },
 "nbformat": 4,
 "nbformat_minor": 5
}
